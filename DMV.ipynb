{
    "cells": [
        {
            "cell_type": "markdown",
            "source": [
                "### DMV Analysis and predictions"
            ],
            "metadata": {}
        },
        {
            "cell_type": "code",
            "execution_count": 68,
            "source": [
                "import pandas as pd\n",
                "from os.path import exists # check if SQL exists\n",
                "import re\n",
                "import smtplib, ssl\n",
                "import time\n",
                "from numpy import random # random wait time between agencies\n",
                "from datetime import datetime\n",
                "from datetime import timedelta\n",
                "import random #for random refresh times\n",
                "from pprint import pprint\n",
                "import pickle\n"
            ],
            "outputs": [],
            "metadata": {}
        },
        {
            "cell_type": "code",
            "execution_count": 101,
            "source": [
                "import ipywidgets as widgets"
            ],
            "outputs": [],
            "metadata": {}
        },
        {
            "cell_type": "markdown",
            "source": [
                "## Intro"
            ],
            "metadata": {}
        },
        {
            "cell_type": "code",
            "execution_count": null,
            "source": [],
            "outputs": [],
            "metadata": {}
        },
        {
            "cell_type": "code",
            "execution_count": null,
            "source": [],
            "outputs": [],
            "metadata": {}
        },
        {
            "cell_type": "markdown",
            "source": [
                "## Manipulation steps"
            ],
            "metadata": {}
        },
        {
            "cell_type": "code",
            "execution_count": null,
            "source": [],
            "outputs": [],
            "metadata": {}
        },
        {
            "cell_type": "markdown",
            "source": [
                "## Model"
            ],
            "metadata": {}
        },
        {
            "cell_type": "code",
            "execution_count": 111,
            "source": [
                "w = widgets.Dropdown(\n",
                "    options=['Bakers_Basin', 'Bayonne', 'Camden', 'Cherry_Hill', 'Cardiff'],\n",
                "    value='Bakers_Basin',\n",
                "    description='Number:',\n",
                "    disabled=False,\n",
                ")\n",
                "display(w)"
            ],
            "outputs": [
                {
                    "output_type": "display_data",
                    "data": {
                        "text/plain": [
                            "Dropdown(description='Number:', options=('Bakers_Basin', 'Bayonne', 'Camden', 'Cherry_Hill', 'Cardiff'), value…"
                        ],
                        "application/vnd.jupyter.widget-view+json": {
                            "version_major": 2,
                            "version_minor": 0,
                            "model_id": "9c51985c2be741fdaea11c9a5bd00202"
                        }
                    },
                    "metadata": {}
                }
            ],
            "metadata": {}
        },
        {
            "cell_type": "markdown",
            "source": [
                "Loads models"
            ],
            "metadata": {}
        },
        {
            "cell_type": "code",
            "execution_count": 112,
            "source": [
                "w.value"
            ],
            "outputs": [
                {
                    "output_type": "execute_result",
                    "data": {
                        "text/plain": [
                            "'Bayonne'"
                        ]
                    },
                    "metadata": {},
                    "execution_count": 112
                }
            ],
            "metadata": {}
        },
        {
            "cell_type": "code",
            "execution_count": 11,
            "source": [
                "Bayonne = pickle.load(open('Bayonne_model', 'rb'))"
            ],
            "outputs": [],
            "metadata": {}
        },
        {
            "cell_type": "markdown",
            "source": [
                "Gets time, transforms into df, applies model"
            ],
            "metadata": {}
        },
        {
            "cell_type": "code",
            "execution_count": 45,
            "source": [
                "now = datetime.today()\n",
                "#now.weekday() #weekday is also available\n",
                "now"
            ],
            "outputs": [
                {
                    "output_type": "execute_result",
                    "data": {
                        "text/plain": [
                            "datetime.datetime(2022, 5, 25, 20, 36, 26, 146832)"
                        ]
                    },
                    "metadata": {},
                    "execution_count": 45
                }
            ],
            "metadata": {}
        },
        {
            "cell_type": "code",
            "execution_count": 41,
            "source": [
                "df_predict = pd.DataFrame({'days_cat': [now.day], 'hours_cat':[now.hour], 'minutes_cat':[now.minute]})\n",
                "df_predict"
            ],
            "outputs": [
                {
                    "output_type": "execute_result",
                    "data": {
                        "text/plain": [
                            "   days_cat  hours_cat  minutes_cat\n",
                            "0        25         20           32"
                        ],
                        "text/html": [
                            "<div>\n",
                            "<style scoped>\n",
                            "    .dataframe tbody tr th:only-of-type {\n",
                            "        vertical-align: middle;\n",
                            "    }\n",
                            "\n",
                            "    .dataframe tbody tr th {\n",
                            "        vertical-align: top;\n",
                            "    }\n",
                            "\n",
                            "    .dataframe thead th {\n",
                            "        text-align: right;\n",
                            "    }\n",
                            "</style>\n",
                            "<table border=\"1\" class=\"dataframe\">\n",
                            "  <thead>\n",
                            "    <tr style=\"text-align: right;\">\n",
                            "      <th></th>\n",
                            "      <th>days_cat</th>\n",
                            "      <th>hours_cat</th>\n",
                            "      <th>minutes_cat</th>\n",
                            "    </tr>\n",
                            "  </thead>\n",
                            "  <tbody>\n",
                            "    <tr>\n",
                            "      <th>0</th>\n",
                            "      <td>25</td>\n",
                            "      <td>20</td>\n",
                            "      <td>32</td>\n",
                            "    </tr>\n",
                            "  </tbody>\n",
                            "</table>\n",
                            "</div>"
                        ]
                    },
                    "metadata": {},
                    "execution_count": 41
                }
            ],
            "metadata": {}
        },
        {
            "cell_type": "code",
            "execution_count": 50,
            "source": [
                "[results] = Bayonne.predict(df_predict) / 3.6e+12 #nano seconds to hours"
            ],
            "outputs": [],
            "metadata": {}
        },
        {
            "cell_type": "code",
            "execution_count": 95,
            "source": [
                "predicted_time = now + timedelta(hours = results)\n",
                "print('The best time to try to schedule an appointment is: ' + predicted_time.strftime('%x, %I:%m %p'))"
            ],
            "outputs": [
                {
                    "output_type": "stream",
                    "name": "stdout",
                    "text": [
                        "The best time to try to schedule an appointment is: 05/26/22, 02:05 AM\n"
                    ]
                }
            ],
            "metadata": {}
        },
        {
            "cell_type": "code",
            "execution_count": null,
            "source": [],
            "outputs": [],
            "metadata": {}
        }
    ],
    "metadata": {
        "orig_nbformat": 4,
        "language_info": {
            "name": "python",
            "version": "3.8.5",
            "mimetype": "text/x-python",
            "codemirror_mode": {
                "name": "ipython",
                "version": 3
            },
            "pygments_lexer": "ipython3",
            "nbconvert_exporter": "python",
            "file_extension": ".py"
        },
        "kernelspec": {
            "name": "python3",
            "display_name": "Python 3.8.5 64-bit ('base': conda)"
        },
        "interpreter": {
            "hash": "5d95667adeea69ab860892b2fc8ecb2b384e71d148151ab8326cdf0bf7a14c73"
        }
    },
    "nbformat": 4,
    "nbformat_minor": 2
}